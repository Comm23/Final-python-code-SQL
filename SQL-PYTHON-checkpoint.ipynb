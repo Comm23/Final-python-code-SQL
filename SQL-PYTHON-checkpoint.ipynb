{
 "cells": [
  {
   "cell_type": "code",
   "execution_count": 1,
   "metadata": {},
   "outputs": [
    {
     "name": "stdout",
     "output_type": "stream",
     "text": [
      "           DATE USA_UNEMPLOYMENT_RATE USA_INDUSTRIAL_PRODUCTION  \\\n",
      "0    2023-04-28                   3,4                       0,5   \n",
      "1    2023-03-31                   3,5                       0,4   \n",
      "2    2023-02-28                   3,6                       0,2   \n",
      "3    2023-01-31                   3,4                      0,94   \n",
      "4    2022-12-31                   3,5                     -1,55   \n",
      "..          ...                   ...                       ...   \n",
      "115  2013-09-30                   7,2                      0,53   \n",
      "116  2013-08-31                   7,2                      0,58   \n",
      "117  2013-07-31                   7,3                      -0,3   \n",
      "118  2013-06-30                   7,5                      0,14   \n",
      "119  2013-05-31                   7,5                      0,09   \n",
      "\n",
      "    USA_IMPORT_PRICES USA_GDP USA_EXPORT_PRICES USA_DOWJONES_INDEX  \\\n",
      "0                -0,4    0,33             154,3           34098,16   \n",
      "1                -0,6     0,2             151,3           33274,15   \n",
      "2                -0,2     0,2             151,8            32656,7   \n",
      "3                -0,4     0,2             151,2           34086,04   \n",
      "4                 0,1    0,87             150,8           33147,25   \n",
      "..                ...     ...               ...                ...   \n",
      "115               0,3    1,07             132,4           15129,67   \n",
      "116               0,4    1,07             131,9           14810,31   \n",
      "117               0,1    1,07             132,6           15499,54   \n",
      "118              -0,4     0,2             132,8            14909,6   \n",
      "119              -0,6     0,2             132,9           15115,57   \n",
      "\n",
      "    USA_CURRENT_ACCOUNT_BALANCE USA_CSI  USA_CPI  ... Gasoline Heating_Oil  \\\n",
      "0                        -1,133    63,5  303,043  ...    257,8      237,87   \n",
      "1                        -1,152      62  301,836  ...   270,05      267,63   \n",
      "2                        -1,152      67   300,84  ...   243,43      282,09   \n",
      "3                        -1,152    64,9   299,17  ...   254,35      318,23   \n",
      "4                          -1,2    59,7  296,797  ...   245,95      336,22   \n",
      "..                          ...     ...      ...  ...      ...         ...   \n",
      "115                      -0,736    77,5  234,149  ...   263,47       297,1   \n",
      "116                      -0,736    82,1  233,877  ...   301,83      313,95   \n",
      "117                      -0,736    85,1  233,596  ...   304,42      304,31   \n",
      "118                       -0,77    84,1  233,504  ...    275,2      287,98   \n",
      "119                       -0,77    84,5  232,945  ...   277,89      279,21   \n",
      "\n",
      "    Aluminium     Lead   Nickel     Zinc    Coal    Rice   Milk Palm_Oil  \n",
      "0        2372     2155  24236,5  2645,75   189,7  17,385  18,62     3937  \n",
      "1     2382,75  2110,25    23685  2938,25  177,25  17,415  18,06     4058  \n",
      "2     2337,13     2098    24620   3013,5  192,85   16,97  17,85     4113  \n",
      "3     2618,25   2128,5    30185  3407,26  251,75  17,825  19,48     3720  \n",
      "4     2349,51   2322,5    29901  2990,25  404,15   18,05  20,47     4171  \n",
      "..        ...      ...      ...      ...     ...     ...    ...      ...  \n",
      "115   1806,25  2097,25  13895,5     1888   79,15   15,13  18,12     2355  \n",
      "116    1774,5     2141    13738     1876   78,55  15,805  17,89     2407  \n",
      "117      1767     2063    13818     1813   77,05  15,825   17,8     2293  \n",
      "118   1737,25   2044,5  13655,5     1828      83   15,74  18,04     2337  \n",
      "119   1885,75     2209    14766     1901    87,7  15,295  18,51     2360  \n",
      "\n",
      "[120 rows x 58 columns]\n"
     ]
    }
   ],
   "source": [
    "import sqlite3\n",
    "import pandas as pd\n",
    "\n",
    "# Create a connection to your SQLite database\n",
    "conn = sqlite3.connect(r'C:\\Users\\User\\Desktop\\AQM My SQLite Database AssetPr. and Macr.Var.db')\n",
    "\n",
    "# Create a query to select all from your table\n",
    "query = \"SELECT * FROM 'OFFICIAL ASSET PRICES + MACR'\"\n",
    "\n",
    "# Execute the query and load the data into a DataFrame\n",
    "data = pd.read_sql_query(query, conn)\n",
    "\n",
    "# Now 'data' is a pandas DataFrame containing all data from your table\n",
    "print(data)\n"
   ]
  },
  {
   "cell_type": "code",
   "execution_count": null,
   "metadata": {},
   "outputs": [],
   "source": []
  }
 ],
 "metadata": {
  "kernelspec": {
   "display_name": "Python 3",
   "language": "python",
   "name": "python3"
  },
  "language_info": {
   "codemirror_mode": {
    "name": "ipython",
    "version": 3
   },
   "file_extension": ".py",
   "mimetype": "text/x-python",
   "name": "python",
   "nbconvert_exporter": "python",
   "pygments_lexer": "ipython3",
   "version": "3.8.5"
  }
 },
 "nbformat": 4,
 "nbformat_minor": 4
}
